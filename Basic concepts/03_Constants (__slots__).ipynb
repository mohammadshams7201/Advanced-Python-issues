{
 "cells": [
  {
   "cell_type": "code",
   "execution_count": 1,
   "id": "c1e42f9f",
   "metadata": {},
   "outputs": [],
   "source": [
    "class Constants(object):\n",
    "    __slots__= ()\n",
    "    PI = 3.14"
   ]
  },
  {
   "cell_type": "code",
   "execution_count": 2,
   "id": "d71c3191",
   "metadata": {},
   "outputs": [
    {
     "name": "stdout",
     "output_type": "stream",
     "text": [
      "3.14\n"
     ]
    }
   ],
   "source": [
    "cons = Constants()\n",
    "print(cons.PI)"
   ]
  },
  {
   "cell_type": "code",
   "execution_count": 3,
   "id": "8f052e69",
   "metadata": {},
   "outputs": [
    {
     "ename": "AttributeError",
     "evalue": "'Constants' object attribute 'PI' is read-only",
     "output_type": "error",
     "traceback": [
      "\u001b[1;31m---------------------------------------------------------------------------\u001b[0m",
      "\u001b[1;31mAttributeError\u001b[0m                            Traceback (most recent call last)",
      "\u001b[1;32mC:\\Users\\MOHAMM~1\\AppData\\Local\\Temp/ipykernel_15776/1846589617.py\u001b[0m in \u001b[0;36m<module>\u001b[1;34m\u001b[0m\n\u001b[1;32m----> 1\u001b[1;33m \u001b[0mcons\u001b[0m\u001b[1;33m.\u001b[0m\u001b[0mPI\u001b[0m \u001b[1;33m=\u001b[0m \u001b[1;36m5\u001b[0m\u001b[1;33m\u001b[0m\u001b[1;33m\u001b[0m\u001b[0m\n\u001b[0m\u001b[0;32m      2\u001b[0m \u001b[0mprint\u001b[0m\u001b[1;33m(\u001b[0m\u001b[0mcons\u001b[0m\u001b[1;33m.\u001b[0m\u001b[0mPI\u001b[0m\u001b[1;33m)\u001b[0m\u001b[1;33m\u001b[0m\u001b[1;33m\u001b[0m\u001b[0m\n",
      "\u001b[1;31mAttributeError\u001b[0m: 'Constants' object attribute 'PI' is read-only"
     ]
    }
   ],
   "source": [
    "cons.PI = 5\n",
    "print(cons.PI)"
   ]
  },
  {
   "cell_type": "code",
   "execution_count": 5,
   "id": "ddc4238f",
   "metadata": {},
   "outputs": [
    {
     "name": "stdout",
     "output_type": "stream",
     "text": [
      "This is the main file\n"
     ]
    }
   ],
   "source": [
    "if __name__ == \"__main__\":\n",
    "    print(\"This is the main file\")    \n",
    "else:\n",
    "    print(\"This is not main file\")\n",
    "        "
   ]
  },
  {
   "cell_type": "markdown",
   "id": "f4cd1a89",
   "metadata": {},
   "source": [
    "# How to find the main file?"
   ]
  },
  {
   "cell_type": "code",
   "execution_count": 7,
   "id": "8b88d4b6",
   "metadata": {},
   "outputs": [],
   "source": [
    "if __name__ == \"__main__\":\n",
    "    pass"
   ]
  },
  {
   "cell_type": "code",
   "execution_count": 9,
   "id": "c7d00c8b",
   "metadata": {},
   "outputs": [],
   "source": [
    "class Car:\n",
    "    def __init__(self, color, max_speed, model):\n",
    "        self.color = color\n",
    "        self.max_speed = max_speed\n",
    "        self.model = model\n",
    "        \n",
    "    def horn(self):\n",
    "        print(\"BIB BIB\")       "
   ]
  },
  {
   "cell_type": "code",
   "execution_count": 10,
   "id": "3764c054",
   "metadata": {},
   "outputs": [],
   "source": [
    "BMW = Car(\"red\", 360, \"E450\")"
   ]
  },
  {
   "cell_type": "code",
   "execution_count": 11,
   "id": "9f54ea9f",
   "metadata": {},
   "outputs": [
    {
     "data": {
      "text/plain": [
       "{'color': 'red', 'max_speed': 360, 'model': 'E450'}"
      ]
     },
     "execution_count": 11,
     "metadata": {},
     "output_type": "execute_result"
    }
   ],
   "source": [
    "BMW.__dict__"
   ]
  },
  {
   "cell_type": "code",
   "execution_count": 12,
   "id": "1933f993",
   "metadata": {},
   "outputs": [],
   "source": [
    "class Constants(object):\n",
    "    __slots__ = ()\n",
    "    PI = 3.14"
   ]
  },
  {
   "cell_type": "code",
   "execution_count": 13,
   "id": "064d228b",
   "metadata": {},
   "outputs": [
    {
     "ename": "AttributeError",
     "evalue": "'Constants' object has no attribute '__dict__'",
     "output_type": "error",
     "traceback": [
      "\u001b[1;31m---------------------------------------------------------------------------\u001b[0m",
      "\u001b[1;31mAttributeError\u001b[0m                            Traceback (most recent call last)",
      "\u001b[1;32mC:\\Users\\MOHAMM~1\\AppData\\Local\\Temp/ipykernel_15776/1306256879.py\u001b[0m in \u001b[0;36m<module>\u001b[1;34m\u001b[0m\n\u001b[0;32m      1\u001b[0m \u001b[0mcons\u001b[0m  \u001b[1;33m=\u001b[0m \u001b[0mConstants\u001b[0m\u001b[1;33m(\u001b[0m\u001b[1;33m)\u001b[0m\u001b[1;33m\u001b[0m\u001b[1;33m\u001b[0m\u001b[0m\n\u001b[1;32m----> 2\u001b[1;33m \u001b[0mcons\u001b[0m\u001b[1;33m.\u001b[0m\u001b[0m__dict__\u001b[0m\u001b[1;33m\u001b[0m\u001b[1;33m\u001b[0m\u001b[0m\n\u001b[0m",
      "\u001b[1;31mAttributeError\u001b[0m: 'Constants' object has no attribute '__dict__'"
     ]
    }
   ],
   "source": [
    "cons  = Constants()\n",
    "cons.__dict__"
   ]
  },
  {
   "cell_type": "code",
   "execution_count": 14,
   "id": "f338a4e2",
   "metadata": {},
   "outputs": [],
   "source": [
    "class Constants1(object):\n",
    "    __slots__ = ()\n",
    "    PI = 3.14\n",
    "    def __init__(self):\n",
    "        pass"
   ]
  },
  {
   "cell_type": "code",
   "execution_count": 15,
   "id": "5bb7dc4e",
   "metadata": {},
   "outputs": [
    {
     "ename": "AttributeError",
     "evalue": "'Constants1' object has no attribute '__dict__'",
     "output_type": "error",
     "traceback": [
      "\u001b[1;31m---------------------------------------------------------------------------\u001b[0m",
      "\u001b[1;31mAttributeError\u001b[0m                            Traceback (most recent call last)",
      "\u001b[1;32mC:\\Users\\MOHAMM~1\\AppData\\Local\\Temp/ipykernel_15776/1446385408.py\u001b[0m in \u001b[0;36m<module>\u001b[1;34m\u001b[0m\n\u001b[0;32m      1\u001b[0m \u001b[0mcons1\u001b[0m  \u001b[1;33m=\u001b[0m \u001b[0mConstants1\u001b[0m\u001b[1;33m(\u001b[0m\u001b[1;33m)\u001b[0m\u001b[1;33m\u001b[0m\u001b[1;33m\u001b[0m\u001b[0m\n\u001b[1;32m----> 2\u001b[1;33m \u001b[0mcons1\u001b[0m\u001b[1;33m.\u001b[0m\u001b[0m__dict__\u001b[0m\u001b[1;33m\u001b[0m\u001b[1;33m\u001b[0m\u001b[0m\n\u001b[0m",
      "\u001b[1;31mAttributeError\u001b[0m: 'Constants1' object has no attribute '__dict__'"
     ]
    }
   ],
   "source": [
    "cons1  = Constants1()\n",
    "cons1.__dict__"
   ]
  },
  {
   "cell_type": "markdown",
   "id": "a17ba81c",
   "metadata": {},
   "source": [
    "# The variabels are not read only (meaning that you can change them) and they are not in .__dict__"
   ]
  },
  {
   "cell_type": "code",
   "execution_count": 2,
   "id": "3c951cc4",
   "metadata": {},
   "outputs": [],
   "source": [
    "class Car:\n",
    "    __slots__ = [\"color\", \"max_speed\", \"model\"]\n",
    "    def __init__(self, color, max_speed, model):\n",
    "        self.color = color\n",
    "        self.max_speed = max_speed\n",
    "        self.model = model\n"
   ]
  },
  {
   "cell_type": "code",
   "execution_count": 3,
   "id": "db85f3f9",
   "metadata": {},
   "outputs": [],
   "source": [
    "pride = Car(\"blue\", 80, \"111\")"
   ]
  },
  {
   "cell_type": "code",
   "execution_count": 5,
   "id": "93ab8049",
   "metadata": {},
   "outputs": [],
   "source": [
    "pride.color = \"white\""
   ]
  },
  {
   "cell_type": "code",
   "execution_count": 6,
   "id": "22ef4fcd",
   "metadata": {},
   "outputs": [
    {
     "data": {
      "text/plain": [
       "'white'"
      ]
     },
     "execution_count": 6,
     "metadata": {},
     "output_type": "execute_result"
    }
   ],
   "source": [
    "pride.color"
   ]
  },
  {
   "cell_type": "code",
   "execution_count": 4,
   "id": "1dc2ef8e",
   "metadata": {},
   "outputs": [
    {
     "ename": "AttributeError",
     "evalue": "'Car' object has no attribute '__dict__'",
     "output_type": "error",
     "traceback": [
      "\u001b[1;31m---------------------------------------------------------------------------\u001b[0m",
      "\u001b[1;31mAttributeError\u001b[0m                            Traceback (most recent call last)",
      "\u001b[1;32mC:\\Users\\MOHAMM~1\\AppData\\Local\\Temp/ipykernel_10352/171010619.py\u001b[0m in \u001b[0;36m<module>\u001b[1;34m\u001b[0m\n\u001b[1;32m----> 1\u001b[1;33m \u001b[0mpride\u001b[0m\u001b[1;33m.\u001b[0m\u001b[0m__dict__\u001b[0m\u001b[1;33m\u001b[0m\u001b[1;33m\u001b[0m\u001b[0m\n\u001b[0m",
      "\u001b[1;31mAttributeError\u001b[0m: 'Car' object has no attribute '__dict__'"
     ]
    }
   ],
   "source": [
    "pride.__dict__"
   ]
  },
  {
   "cell_type": "markdown",
   "id": "784e9a29",
   "metadata": {},
   "source": [
    "# On the contrary ... "
   ]
  },
  {
   "cell_type": "code",
   "execution_count": 7,
   "id": "662d8830",
   "metadata": {},
   "outputs": [],
   "source": [
    "class Constant(object):\n",
    "    __slots__ = ()\n",
    "    PI = 4"
   ]
  },
  {
   "cell_type": "code",
   "execution_count": 8,
   "id": "df786528",
   "metadata": {},
   "outputs": [],
   "source": [
    "cons = Constant()"
   ]
  },
  {
   "cell_type": "code",
   "execution_count": 10,
   "id": "b9fe4cd0",
   "metadata": {},
   "outputs": [
    {
     "ename": "AttributeError",
     "evalue": "'Constant' object attribute 'PI' is read-only",
     "output_type": "error",
     "traceback": [
      "\u001b[1;31m---------------------------------------------------------------------------\u001b[0m",
      "\u001b[1;31mAttributeError\u001b[0m                            Traceback (most recent call last)",
      "\u001b[1;32mC:\\Users\\MOHAMM~1\\AppData\\Local\\Temp/ipykernel_10352/4145836743.py\u001b[0m in \u001b[0;36m<module>\u001b[1;34m\u001b[0m\n\u001b[1;32m----> 1\u001b[1;33m \u001b[0mcons\u001b[0m\u001b[1;33m.\u001b[0m\u001b[0mPI\u001b[0m \u001b[1;33m=\u001b[0m \u001b[1;36m5\u001b[0m\u001b[1;33m\u001b[0m\u001b[1;33m\u001b[0m\u001b[0m\n\u001b[0m",
      "\u001b[1;31mAttributeError\u001b[0m: 'Constant' object attribute 'PI' is read-only"
     ]
    }
   ],
   "source": [
    "cons.PI = 5"
   ]
  },
  {
   "cell_type": "code",
   "execution_count": null,
   "id": "46ff8b2f",
   "metadata": {},
   "outputs": [],
   "source": []
  },
  {
   "cell_type": "code",
   "execution_count": 1,
   "id": "f8bbcb24",
   "metadata": {},
   "outputs": [],
   "source": [
    "import sys"
   ]
  },
  {
   "cell_type": "code",
   "execution_count": 2,
   "id": "6de2c837",
   "metadata": {},
   "outputs": [],
   "source": [
    "class Car:\n",
    "    __slots__ = [\"color\", \"max_speed\", \"model\"]\n",
    "    def __init__(self, color, max_speed, model):\n",
    "        self.color = color\n",
    "        self.max_speed = max_speed\n",
    "        self.model = model"
   ]
  },
  {
   "cell_type": "code",
   "execution_count": 3,
   "id": "6ef8205f",
   "metadata": {},
   "outputs": [],
   "source": [
    "pride = Car(\"red\", 440, \"111\")"
   ]
  },
  {
   "cell_type": "code",
   "execution_count": 4,
   "id": "ba1c04cd",
   "metadata": {},
   "outputs": [
    {
     "name": "stdout",
     "output_type": "stream",
     "text": [
      "56\n"
     ]
    }
   ],
   "source": [
    "print(sys.getsizeof(pride))"
   ]
  },
  {
   "cell_type": "code",
   "execution_count": 5,
   "id": "afe96553",
   "metadata": {},
   "outputs": [],
   "source": [
    "class Car1(object):\n",
    "    __slots__ = ()\n",
    "    color = \"white\"\n",
    "    max_speed = 440\n",
    "    model = \"111\"\n"
   ]
  },
  {
   "cell_type": "code",
   "execution_count": 6,
   "id": "a798817c",
   "metadata": {},
   "outputs": [],
   "source": [
    "pride1 = Car1()"
   ]
  },
  {
   "cell_type": "code",
   "execution_count": 7,
   "id": "87eaee64",
   "metadata": {},
   "outputs": [
    {
     "name": "stdout",
     "output_type": "stream",
     "text": [
      "32\n"
     ]
    }
   ],
   "source": [
    "print(sys.getsizeof(pride1))"
   ]
  },
  {
   "cell_type": "code",
   "execution_count": null,
   "id": "4e83a791",
   "metadata": {},
   "outputs": [],
   "source": []
  }
 ],
 "metadata": {
  "kernelspec": {
   "display_name": "Python 3 (ipykernel)",
   "language": "python",
   "name": "python3"
  },
  "language_info": {
   "codemirror_mode": {
    "name": "ipython",
    "version": 3
   },
   "file_extension": ".py",
   "mimetype": "text/x-python",
   "name": "python",
   "nbconvert_exporter": "python",
   "pygments_lexer": "ipython3",
   "version": "3.9.7"
  }
 },
 "nbformat": 4,
 "nbformat_minor": 5
}
