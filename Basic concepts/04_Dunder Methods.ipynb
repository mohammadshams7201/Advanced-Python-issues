{
 "cells": [
  {
   "cell_type": "code",
   "execution_count": 1,
   "id": "74234be4",
   "metadata": {},
   "outputs": [],
   "source": [
    "#__init__\n",
    "#__new__\n",
    "#__del__"
   ]
  },
  {
   "cell_type": "code",
   "execution_count": 20,
   "id": "9ca7cec0",
   "metadata": {},
   "outputs": [],
   "source": [
    "#__init__"
   ]
  },
  {
   "cell_type": "code",
   "execution_count": 1,
   "id": "cce9cc12",
   "metadata": {},
   "outputs": [],
   "source": [
    "class A:\n",
    "    def __init__(self, value):\n",
    "        self.value = value\n",
    "        "
   ]
  },
  {
   "cell_type": "code",
   "execution_count": 3,
   "id": "107cde4a",
   "metadata": {},
   "outputs": [
    {
     "name": "stdout",
     "output_type": "stream",
     "text": [
      "<__main__.A object at 0x0000022FD1DBD070>\n"
     ]
    }
   ],
   "source": [
    "obj1 = A(34)\n",
    "print(obj1)"
   ]
  },
  {
   "cell_type": "code",
   "execution_count": 4,
   "id": "0bc41ebf",
   "metadata": {},
   "outputs": [
    {
     "data": {
      "text/plain": [
       "34"
      ]
     },
     "execution_count": 4,
     "metadata": {},
     "output_type": "execute_result"
    }
   ],
   "source": [
    "obj1.value"
   ]
  },
  {
   "cell_type": "code",
   "execution_count": 5,
   "id": "f586c9da",
   "metadata": {},
   "outputs": [
    {
     "name": "stdout",
     "output_type": "stream",
     "text": [
      "56\n"
     ]
    }
   ],
   "source": [
    "obj1.value = 56\n",
    "print(obj1.value)"
   ]
  },
  {
   "cell_type": "code",
   "execution_count": 6,
   "id": "45470db6",
   "metadata": {},
   "outputs": [],
   "source": [
    "obj2 = A(3)"
   ]
  },
  {
   "cell_type": "code",
   "execution_count": 7,
   "id": "4c303b5f",
   "metadata": {},
   "outputs": [
    {
     "ename": "TypeError",
     "evalue": "unsupported operand type(s) for +: 'A' and 'A'",
     "output_type": "error",
     "traceback": [
      "\u001b[1;31m---------------------------------------------------------------------------\u001b[0m",
      "\u001b[1;31mTypeError\u001b[0m                                 Traceback (most recent call last)",
      "\u001b[1;32mC:\\Users\\MOHAMM~1\\AppData\\Local\\Temp/ipykernel_17304/3244415623.py\u001b[0m in \u001b[0;36m<module>\u001b[1;34m\u001b[0m\n\u001b[1;32m----> 1\u001b[1;33m \u001b[0mobj1\u001b[0m \u001b[1;33m+\u001b[0m \u001b[0mobj2\u001b[0m\u001b[1;33m\u001b[0m\u001b[1;33m\u001b[0m\u001b[0m\n\u001b[0m",
      "\u001b[1;31mTypeError\u001b[0m: unsupported operand type(s) for +: 'A' and 'A'"
     ]
    }
   ],
   "source": [
    "obj1 + obj2"
   ]
  },
  {
   "cell_type": "markdown",
   "id": "92b6a630",
   "metadata": {},
   "source": [
    "# To add sth to the obj, we should use \"__add__\" in the class"
   ]
  },
  {
   "cell_type": "code",
   "execution_count": 8,
   "id": "10e673bc",
   "metadata": {},
   "outputs": [],
   "source": [
    "class B:\n",
    "    def __init__(self, value):\n",
    "        self.value = value\n",
    "        \n",
    "    def __add__(self, sth):\n",
    "        return self.value + sth.value"
   ]
  },
  {
   "cell_type": "code",
   "execution_count": 9,
   "id": "01554b4c",
   "metadata": {},
   "outputs": [],
   "source": [
    "obj3 = B(5)"
   ]
  },
  {
   "cell_type": "code",
   "execution_count": 10,
   "id": "5b584742",
   "metadata": {},
   "outputs": [
    {
     "name": "stdout",
     "output_type": "stream",
     "text": [
      "<__main__.B object at 0x0000022FD1D92EB0>\n"
     ]
    }
   ],
   "source": [
    "print(obj3)"
   ]
  },
  {
   "cell_type": "code",
   "execution_count": 11,
   "id": "733ffd88",
   "metadata": {},
   "outputs": [
    {
     "data": {
      "text/plain": [
       "5"
      ]
     },
     "execution_count": 11,
     "metadata": {},
     "output_type": "execute_result"
    }
   ],
   "source": [
    "obj3.value"
   ]
  },
  {
   "cell_type": "code",
   "execution_count": 12,
   "id": "ba62df63",
   "metadata": {},
   "outputs": [
    {
     "name": "stdout",
     "output_type": "stream",
     "text": [
      "9\n"
     ]
    }
   ],
   "source": [
    "obj3.value = 9\n",
    "print(obj3.value)"
   ]
  },
  {
   "cell_type": "code",
   "execution_count": 13,
   "id": "0303f69f",
   "metadata": {},
   "outputs": [],
   "source": [
    "obj4 = B(23)"
   ]
  },
  {
   "cell_type": "code",
   "execution_count": 14,
   "id": "544e168a",
   "metadata": {},
   "outputs": [
    {
     "data": {
      "text/plain": [
       "32"
      ]
     },
     "execution_count": 14,
     "metadata": {},
     "output_type": "execute_result"
    }
   ],
   "source": [
    "obj3 + obj4"
   ]
  },
  {
   "cell_type": "code",
   "execution_count": 21,
   "id": "9d2b3a60",
   "metadata": {},
   "outputs": [],
   "source": [
    "#__add__"
   ]
  },
  {
   "cell_type": "code",
   "execution_count": 15,
   "id": "669182e2",
   "metadata": {},
   "outputs": [],
   "source": [
    "class C:\n",
    "    def __init__(self, value):\n",
    "        self.value = value\n",
    "        \n",
    "    def __add__(self, sth):\n",
    "        return C(self.value + sth.value)"
   ]
  },
  {
   "cell_type": "code",
   "execution_count": 17,
   "id": "8eaa8538",
   "metadata": {},
   "outputs": [
    {
     "data": {
      "text/plain": [
       "50"
      ]
     },
     "execution_count": 17,
     "metadata": {},
     "output_type": "execute_result"
    }
   ],
   "source": [
    "obj5 = C(20)\n",
    "obj6 = C(30)\n",
    "(obj5 + obj6).value"
   ]
  },
  {
   "cell_type": "code",
   "execution_count": 18,
   "id": "424f5d80",
   "metadata": {},
   "outputs": [],
   "source": [
    "obj7 = C(10)\n",
    "x = obj5 + obj6 + obj7"
   ]
  },
  {
   "cell_type": "code",
   "execution_count": 19,
   "id": "96da5a07",
   "metadata": {},
   "outputs": [
    {
     "data": {
      "text/plain": [
       "60"
      ]
     },
     "execution_count": 19,
     "metadata": {},
     "output_type": "execute_result"
    }
   ],
   "source": [
    "x.value"
   ]
  },
  {
   "cell_type": "code",
   "execution_count": 22,
   "id": "74abec52",
   "metadata": {},
   "outputs": [],
   "source": [
    "#__new__"
   ]
  },
  {
   "cell_type": "code",
   "execution_count": 28,
   "id": "154fcd37",
   "metadata": {},
   "outputs": [],
   "source": [
    "class D:\n",
    "    def __init__(self):\n",
    "        print(\"Calling the constructor method !\")\n",
    "        \n",
    "    def __new__(cls):\n",
    "        print(\"Calling the new method !\")\n",
    "        return object.__new__(cls)\n",
    "    \n",
    "    def __del__(self):\n",
    "        print(\"Calling the destructor method !\")"
   ]
  },
  {
   "cell_type": "code",
   "execution_count": 29,
   "id": "9f9de199",
   "metadata": {},
   "outputs": [
    {
     "name": "stdout",
     "output_type": "stream",
     "text": [
      "Calling the new method !\n",
      "Calling the constructor method !\n"
     ]
    }
   ],
   "source": [
    "obj8 = D()"
   ]
  },
  {
   "cell_type": "code",
   "execution_count": 30,
   "id": "3396e852",
   "metadata": {},
   "outputs": [
    {
     "name": "stdout",
     "output_type": "stream",
     "text": [
      "Calling the destructor method !\n"
     ]
    }
   ],
   "source": [
    "del obj8"
   ]
  },
  {
   "cell_type": "code",
   "execution_count": 31,
   "id": "49e7576c",
   "metadata": {},
   "outputs": [
    {
     "ename": "NameError",
     "evalue": "name 'obj8' is not defined",
     "output_type": "error",
     "traceback": [
      "\u001b[1;31m---------------------------------------------------------------------------\u001b[0m",
      "\u001b[1;31mNameError\u001b[0m                                 Traceback (most recent call last)",
      "\u001b[1;32mC:\\Users\\MOHAMM~1\\AppData\\Local\\Temp/ipykernel_17304/60333906.py\u001b[0m in \u001b[0;36m<module>\u001b[1;34m\u001b[0m\n\u001b[1;32m----> 1\u001b[1;33m \u001b[0mprint\u001b[0m\u001b[1;33m(\u001b[0m\u001b[0mobj8\u001b[0m\u001b[1;33m)\u001b[0m\u001b[1;33m\u001b[0m\u001b[1;33m\u001b[0m\u001b[0m\n\u001b[0m",
      "\u001b[1;31mNameError\u001b[0m: name 'obj8' is not defined"
     ]
    }
   ],
   "source": [
    "print(obj8)"
   ]
  }
 ],
 "metadata": {
  "kernelspec": {
   "display_name": "Python 3 (ipykernel)",
   "language": "python",
   "name": "python3"
  },
  "language_info": {
   "codemirror_mode": {
    "name": "ipython",
    "version": 3
   },
   "file_extension": ".py",
   "mimetype": "text/x-python",
   "name": "python",
   "nbconvert_exporter": "python",
   "pygments_lexer": "ipython3",
   "version": "3.9.7"
  }
 },
 "nbformat": 4,
 "nbformat_minor": 5
}
