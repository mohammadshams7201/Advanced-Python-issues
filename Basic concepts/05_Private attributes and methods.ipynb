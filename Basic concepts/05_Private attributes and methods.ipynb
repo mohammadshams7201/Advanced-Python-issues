{
 "cells": [
  {
   "cell_type": "code",
   "execution_count": 1,
   "id": "f4288ce9",
   "metadata": {},
   "outputs": [],
   "source": [
    "#self._attribute ----> weakly private\n",
    "#self.__attribute ----> strongly private (changing the name in the RAM)"
   ]
  },
  {
   "cell_type": "code",
   "execution_count": 2,
   "id": "fa4f22d8",
   "metadata": {},
   "outputs": [],
   "source": [
    "class A:\n",
    "    def __init__(self):\n",
    "        self.val = 3\n",
    "        self._val = 5\n",
    "        self.__val = 7"
   ]
  },
  {
   "cell_type": "code",
   "execution_count": 3,
   "id": "6772313f",
   "metadata": {},
   "outputs": [],
   "source": [
    "obj = A()"
   ]
  },
  {
   "cell_type": "code",
   "execution_count": 5,
   "id": "24288bc2",
   "metadata": {},
   "outputs": [
    {
     "data": {
      "text/plain": [
       "3"
      ]
     },
     "execution_count": 5,
     "metadata": {},
     "output_type": "execute_result"
    }
   ],
   "source": [
    "obj.val"
   ]
  },
  {
   "cell_type": "code",
   "execution_count": 6,
   "id": "e205e303",
   "metadata": {},
   "outputs": [
    {
     "data": {
      "text/plain": [
       "5"
      ]
     },
     "execution_count": 6,
     "metadata": {},
     "output_type": "execute_result"
    }
   ],
   "source": [
    "obj._val"
   ]
  },
  {
   "cell_type": "code",
   "execution_count": 7,
   "id": "ab9896a1",
   "metadata": {},
   "outputs": [
    {
     "ename": "AttributeError",
     "evalue": "'A' object has no attribute '__val'",
     "output_type": "error",
     "traceback": [
      "\u001b[1;31m---------------------------------------------------------------------------\u001b[0m",
      "\u001b[1;31mAttributeError\u001b[0m                            Traceback (most recent call last)",
      "\u001b[1;32mC:\\Users\\MOHAMM~1\\AppData\\Local\\Temp/ipykernel_12588/2738321142.py\u001b[0m in \u001b[0;36m<module>\u001b[1;34m\u001b[0m\n\u001b[1;32m----> 1\u001b[1;33m \u001b[0mobj\u001b[0m\u001b[1;33m.\u001b[0m\u001b[0m__val\u001b[0m\u001b[1;33m\u001b[0m\u001b[1;33m\u001b[0m\u001b[0m\n\u001b[0m",
      "\u001b[1;31mAttributeError\u001b[0m: 'A' object has no attribute '__val'"
     ]
    }
   ],
   "source": [
    "obj.__val    #we face an error bacause it saved in the RAM with different name"
   ]
  },
  {
   "cell_type": "code",
   "execution_count": 8,
   "id": "2ddaa21e",
   "metadata": {},
   "outputs": [
    {
     "data": {
      "text/plain": [
       "{'val': 3, '_val': 5, '_A__val': 7}"
      ]
     },
     "execution_count": 8,
     "metadata": {},
     "output_type": "execute_result"
    }
   ],
   "source": [
    "obj.__dict__"
   ]
  },
  {
   "cell_type": "code",
   "execution_count": 11,
   "id": "c88ef564",
   "metadata": {},
   "outputs": [],
   "source": [
    "#As can be seen the new name is _A__val  # A---> class name"
   ]
  },
  {
   "cell_type": "code",
   "execution_count": 10,
   "id": "0866e4a3",
   "metadata": {},
   "outputs": [
    {
     "data": {
      "text/plain": [
       "7"
      ]
     },
     "execution_count": 10,
     "metadata": {},
     "output_type": "execute_result"
    }
   ],
   "source": [
    "obj._A__val"
   ]
  },
  {
   "cell_type": "code",
   "execution_count": null,
   "id": "034c435c",
   "metadata": {},
   "outputs": [],
   "source": []
  },
  {
   "cell_type": "code",
   "execution_count": null,
   "id": "1a9484e9",
   "metadata": {},
   "outputs": [],
   "source": []
  }
 ],
 "metadata": {
  "kernelspec": {
   "display_name": "Python 3 (ipykernel)",
   "language": "python",
   "name": "python3"
  },
  "language_info": {
   "codemirror_mode": {
    "name": "ipython",
    "version": 3
   },
   "file_extension": ".py",
   "mimetype": "text/x-python",
   "name": "python",
   "nbconvert_exporter": "python",
   "pygments_lexer": "ipython3",
   "version": "3.9.7"
  }
 },
 "nbformat": 4,
 "nbformat_minor": 5
}
