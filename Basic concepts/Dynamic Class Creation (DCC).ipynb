{
 "cells": [
  {
   "cell_type": "code",
   "execution_count": 2,
   "id": "3c507fa3",
   "metadata": {},
   "outputs": [],
   "source": [
    "class Cat:\n",
    "    def __init__(self):\n",
    "        pass"
   ]
  },
  {
   "cell_type": "code",
   "execution_count": 3,
   "id": "889a2f62",
   "metadata": {},
   "outputs": [],
   "source": [
    "gigi = Cat()"
   ]
  },
  {
   "cell_type": "code",
   "execution_count": 4,
   "id": "3c5c2bc0",
   "metadata": {},
   "outputs": [
    {
     "data": {
      "text/plain": [
       "__main__.Cat"
      ]
     },
     "execution_count": 4,
     "metadata": {},
     "output_type": "execute_result"
    }
   ],
   "source": [
    "type(gigi)"
   ]
  },
  {
   "cell_type": "code",
   "execution_count": null,
   "id": "e52d7a32",
   "metadata": {},
   "outputs": [],
   "source": []
  },
  {
   "cell_type": "code",
   "execution_count": 8,
   "id": "dc60dad9",
   "metadata": {},
   "outputs": [],
   "source": [
    "def constractor(self):\n",
    "    pass\n",
    "\n",
    "Cat1 = type(\"Cat\", (), {\"__init__\":constractor}) # type(class name, inheretence, attributes & methods)"
   ]
  },
  {
   "cell_type": "code",
   "execution_count": 9,
   "id": "b28b0f39",
   "metadata": {},
   "outputs": [],
   "source": [
    "gigi1 = Cat1()"
   ]
  },
  {
   "cell_type": "code",
   "execution_count": 10,
   "id": "d79c51f9",
   "metadata": {},
   "outputs": [
    {
     "data": {
      "text/plain": [
       "type"
      ]
     },
     "execution_count": 10,
     "metadata": {},
     "output_type": "execute_result"
    }
   ],
   "source": [
    "type(Cat1)"
   ]
  },
  {
   "cell_type": "code",
   "execution_count": 11,
   "id": "9b4b3a62",
   "metadata": {},
   "outputs": [
    {
     "data": {
      "text/plain": [
       "{}"
      ]
     },
     "execution_count": 11,
     "metadata": {},
     "output_type": "execute_result"
    }
   ],
   "source": [
    "gigi.__dict__"
   ]
  },
  {
   "cell_type": "code",
   "execution_count": null,
   "id": "5ee67f26",
   "metadata": {},
   "outputs": [],
   "source": []
  },
  {
   "cell_type": "code",
   "execution_count": 12,
   "id": "fa94e15c",
   "metadata": {},
   "outputs": [],
   "source": [
    "class Cat:\n",
    "    def __init__(self, color):\n",
    "        self.color = color\n",
    "        \n",
    "    def myfunc(self):\n",
    "        print(\"ok\")"
   ]
  },
  {
   "cell_type": "code",
   "execution_count": 13,
   "id": "e3437142",
   "metadata": {},
   "outputs": [],
   "source": [
    "gigi2 = Cat(\"Black\")"
   ]
  },
  {
   "cell_type": "code",
   "execution_count": 15,
   "id": "2cbde0d0",
   "metadata": {},
   "outputs": [
    {
     "data": {
      "text/plain": [
       "{'color': 'Black'}"
      ]
     },
     "execution_count": 15,
     "metadata": {},
     "output_type": "execute_result"
    }
   ],
   "source": [
    "gigi2.__dict__"
   ]
  },
  {
   "cell_type": "code",
   "execution_count": null,
   "id": "8cb078e4",
   "metadata": {},
   "outputs": [],
   "source": []
  }
 ],
 "metadata": {
  "kernelspec": {
   "display_name": "Python 3 (ipykernel)",
   "language": "python",
   "name": "python3"
  },
  "language_info": {
   "codemirror_mode": {
    "name": "ipython",
    "version": 3
   },
   "file_extension": ".py",
   "mimetype": "text/x-python",
   "name": "python",
   "nbconvert_exporter": "python",
   "pygments_lexer": "ipython3",
   "version": "3.9.7"
  }
 },
 "nbformat": 4,
 "nbformat_minor": 5
}
